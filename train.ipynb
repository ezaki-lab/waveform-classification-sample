{
 "cells": [
  {
   "attachments": {},
   "cell_type": "markdown",
   "metadata": {},
   "source": [
    "GPUで学習を行いましょう"
   ]
  },
  {
   "cell_type": "code",
   "execution_count": null,
   "metadata": {},
   "outputs": [],
   "source": [
    "!nvidia-smi"
   ]
  },
  {
   "cell_type": "code",
   "execution_count": null,
   "metadata": {},
   "outputs": [],
   "source": [
    "from google.colab import drive\n",
    "drive.mount(\"/content/drive\")"
   ]
  },
  {
   "cell_type": "code",
   "execution_count": null,
   "metadata": {},
   "outputs": [],
   "source": [
    "# 作業ディレクトリを選択 (環境に合わせて変更しましょう)\n",
    "%cd /content/drive/MyDrive/waveform-classification-sample"
   ]
  },
  {
   "cell_type": "code",
   "execution_count": null,
   "metadata": {},
   "outputs": [],
   "source": [
    "import tensorflow as tf\n",
    "print(tf.__version__)"
   ]
  },
  {
   "cell_type": "code",
   "execution_count": null,
   "metadata": {},
   "outputs": [],
   "source": [
    "import numpy as np\n",
    "import pandas as pd\n",
    "from sklearn.model_selection import train_test_split\n",
    "from tensorflow.keras.models import Sequential\n",
    "from tensorflow.keras.layers import Dense, Dropout, LSTM\n",
    "from tensorflow.keras.optimizers import Adam\n",
    "from tensorflow.keras.utils import to_categorical\n",
    "from tensorflow.keras.losses import SparseCategoricalCrossentropy\n",
    "import matplotlib.pyplot as plt"
   ]
  },
  {
   "cell_type": "code",
   "execution_count": null,
   "metadata": {},
   "outputs": [],
   "source": [
    "# 機械学習に使用するデータセットを読み込み\n",
    "df = pd.read_csv(\"data.csv\")\n",
    "\n",
    "# 答えとなるデータが answer カラムにある場合は、Xから answer カラムを削除\n",
    "X = df.drop(\"answer\", axis=1).values\n",
    "# Yはanswerの内容をone-hotエンコーディングを行って代入\n",
    "y = to_categorical(df[[\"plastic_type\"]].values)\n",
    "\n",
    "# テストデータ2割、学習データ8割に分割\n",
    "X_train, X_test, y_train, y_test = train_test_split(X, y, test_size=0.2, random_state=0)\n",
    "\n",
    "# 学習データの数、テストデータの数、クラス数 (カテゴリ数) を表示\n",
    "print(\"train data num:\", X_train.shape[0])\n",
    "print(\"test data num:\", y_test.shape[0])\n",
    "print(\"class num:\", y_train.shape[1])"
   ]
  },
  {
   "cell_type": "code",
   "execution_count": null,
   "metadata": {},
   "outputs": [],
   "source": [
    "# 入力データの長さ\n",
    "input_shape = (1, 256)\n",
    "# クラス数 (カテゴリ数)\n",
    "class_num = y_train.shape[1]"
   ]
  },
  {
   "cell_type": "code",
   "execution_count": null,
   "metadata": {},
   "outputs": [],
   "source": [
    "# モデルを構築\n",
    "# 上から順に処理が行われていく\n",
    "model = Sequential([\n",
    "    LSTM(512, input_shape=input_shape, return_sequences=True, name=\"lstm_1\"),\n",
    "    LSTM(256, name=\"lstm_2\"),\n",
    "    Dense(class_num, activation=\"softmax\", name=\"dense_1\")\n",
    "])\n",
    "\n",
    "# モデルのコンパイル\n",
    "model.compile(\n",
    "    optimizer=Adam(learning_rate=0.01),\n",
    "    loss='categorical_crossentropy',\n",
    "    metrics=[\"accuracy\"]\n",
    ")"
   ]
  },
  {
   "cell_type": "code",
   "execution_count": null,
   "metadata": {},
   "outputs": [],
   "source": [
    "# 検証データ3割で学習を行う\n",
    "hist = model.fit(\n",
    "    X_train, y_train,\n",
    "    batch_size=128,\n",
    "    epochs=27,\n",
    "    validation_split=0.3,\n",
    "    verbose=1\n",
    ")"
   ]
  },
  {
   "cell_type": "code",
   "execution_count": null,
   "metadata": {},
   "outputs": [],
   "source": [
    "plt.figure()\n",
    "plt.title(\"Accuracy\")\n",
    "plt.xlabel(\"epoch\")\n",
    "plt.ylabel(\"accuracy\")\n",
    "plt.plot(hist.history[\"accuracy\"], label=\"train\")\n",
    "plt.plot(hist.history[\"val_accuracy\"], label=\"val\")\n",
    "plt.legend()"
   ]
  },
  {
   "cell_type": "code",
   "execution_count": null,
   "metadata": {},
   "outputs": [],
   "source": [
    "plt.figure()\n",
    "plt.title(\"categorical_crossentropy Loss\")\n",
    "plt.xlabel(\"epoch\")\n",
    "plt.ylabel(\"loss\")\n",
    "plt.plot(hist.history[\"loss\"], label=\"train\")\n",
    "plt.plot(hist.history[\"val_loss\"], label=\"val\")\n",
    "plt.legend()\n",
    "plt.show()"
   ]
  },
  {
   "cell_type": "code",
   "execution_count": null,
   "metadata": {},
   "outputs": [],
   "source": [
    "# テストデータと学習データの正解率(accuracy)と損失(loss)を表示\n",
    "# 一般的に言われる「精度」とは、テストデータの正解率のことを指す\n",
    "train_score = model.evaluate(X_train, y_train)\n",
    "test_score = model.evaluate(X_test, y_test)\n",
    "print(\"Train loss:\", train_score[0])\n",
    "print(\"Train accuracy:\", train_score[1])\n",
    "print(\"Test loss:\", test_score[0])\n",
    "print(\"Test accuracy:\", test_score[1])"
   ]
  },
  {
   "cell_type": "code",
   "execution_count": null,
   "metadata": {},
   "outputs": [],
   "source": [
    "# モデルを表示\n",
    "model.save(\"classification-model.h5\")"
   ]
  }
 ],
 "metadata": {
  "kernelspec": {
   "display_name": "Python 3.9.6 64-bit",
   "language": "python",
   "name": "python3"
  },
  "language_info": {
   "name": "python",
   "version": "3.9.6"
  },
  "orig_nbformat": 4,
  "vscode": {
   "interpreter": {
    "hash": "7e635ebd5e894ce6932c9fecec4614be624e832c6d0d70f4fc521f89e00115f5"
   }
  }
 },
 "nbformat": 4,
 "nbformat_minor": 2
}
